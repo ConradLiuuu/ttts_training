{
 "cells": [
  {
   "cell_type": "code",
   "execution_count": 10,
   "metadata": {},
   "outputs": [
    {
     "name": "stderr",
     "output_type": "stream",
     "text": [
      "Using TensorFlow backend.\n",
      "/home/lab606a/.virtualenvs/keras/lib/python3.6/site-packages/tensorflow/python/framework/dtypes.py:523: FutureWarning: Passing (type, 1) or '1type' as a synonym of type is deprecated; in a future version of numpy, it will be understood as (type, (1,)) / '(1,)type'.\n",
      "  _np_qint8 = np.dtype([(\"qint8\", np.int8, 1)])\n",
      "/home/lab606a/.virtualenvs/keras/lib/python3.6/site-packages/tensorflow/python/framework/dtypes.py:524: FutureWarning: Passing (type, 1) or '1type' as a synonym of type is deprecated; in a future version of numpy, it will be understood as (type, (1,)) / '(1,)type'.\n",
      "  _np_quint8 = np.dtype([(\"quint8\", np.uint8, 1)])\n",
      "/home/lab606a/.virtualenvs/keras/lib/python3.6/site-packages/tensorflow/python/framework/dtypes.py:525: FutureWarning: Passing (type, 1) or '1type' as a synonym of type is deprecated; in a future version of numpy, it will be understood as (type, (1,)) / '(1,)type'.\n",
      "  _np_qint16 = np.dtype([(\"qint16\", np.int16, 1)])\n",
      "/home/lab606a/.virtualenvs/keras/lib/python3.6/site-packages/tensorflow/python/framework/dtypes.py:526: FutureWarning: Passing (type, 1) or '1type' as a synonym of type is deprecated; in a future version of numpy, it will be understood as (type, (1,)) / '(1,)type'.\n",
      "  _np_quint16 = np.dtype([(\"quint16\", np.uint16, 1)])\n",
      "/home/lab606a/.virtualenvs/keras/lib/python3.6/site-packages/tensorflow/python/framework/dtypes.py:527: FutureWarning: Passing (type, 1) or '1type' as a synonym of type is deprecated; in a future version of numpy, it will be understood as (type, (1,)) / '(1,)type'.\n",
      "  _np_qint32 = np.dtype([(\"qint32\", np.int32, 1)])\n",
      "/home/lab606a/.virtualenvs/keras/lib/python3.6/site-packages/tensorflow/python/framework/dtypes.py:532: FutureWarning: Passing (type, 1) or '1type' as a synonym of type is deprecated; in a future version of numpy, it will be understood as (type, (1,)) / '(1,)type'.\n",
      "  np_resource = np.dtype([(\"resource\", np.ubyte, 1)])\n"
     ]
    }
   ],
   "source": [
    "import pandas as pd\n",
    "import numpy as np\n",
    "from keras.preprocessing import sequence"
   ]
  },
  {
   "cell_type": "code",
   "execution_count": 2,
   "metadata": {},
   "outputs": [
    {
     "data": {
      "text/plain": [
       "(4000, 91)"
      ]
     },
     "execution_count": 2,
     "metadata": {},
     "output_type": "execute_result"
    }
   ],
   "source": [
    "datasetset = pd.read_csv(\"./datasets/30balls/dataset20200331_30balls.csv\", header=None)\n",
    "datasetset = datasetset.fillna(0)\n",
    "datasetset = np.array(datasetset)\n",
    "datasetset.shape"
   ]
  },
  {
   "cell_type": "code",
   "execution_count": 8,
   "metadata": {},
   "outputs": [
    {
     "data": {
      "text/plain": [
       "(4000, 91)"
      ]
     },
     "execution_count": 8,
     "metadata": {},
     "output_type": "execute_result"
    }
   ],
   "source": [
    "datasetset2 = datasetset\n",
    "datasetset2.shape"
   ]
  },
  {
   "cell_type": "code",
   "execution_count": 6,
   "metadata": {},
   "outputs": [
    {
     "name": "stdout",
     "output_type": "stream",
     "text": [
      "(4000, 31)\n",
      "(4000, 34)\n",
      "(4000, 37)\n",
      "(4000, 40)\n",
      "(4000, 43)\n",
      "(4000, 46)\n",
      "(4000, 49)\n",
      "(4000, 52)\n",
      "(4000, 55)\n",
      "(4000, 58)\n",
      "(4000, 61)\n",
      "(4000, 64)\n",
      "(4000, 67)\n",
      "(4000, 70)\n",
      "(4000, 73)\n",
      "(4000, 76)\n",
      "(4000, 79)\n",
      "(4000, 82)\n",
      "(4000, 85)\n",
      "(4000, 88)\n"
     ]
    }
   ],
   "source": [
    "for i in range(31, 91, 3):\n",
    "    tmp = datasetset[:,:i]\n",
    "    print(tmp.shape)"
   ]
  },
  {
   "cell_type": "code",
   "execution_count": 11,
   "metadata": {},
   "outputs": [
    {
     "name": "stdout",
     "output_type": "stream",
     "text": [
      "(8000, 91)\n",
      "(12000, 91)\n",
      "(16000, 91)\n",
      "(20000, 91)\n",
      "(24000, 91)\n",
      "(28000, 91)\n",
      "(32000, 91)\n",
      "(36000, 91)\n",
      "(40000, 91)\n",
      "(44000, 91)\n",
      "(48000, 91)\n",
      "(52000, 91)\n",
      "(56000, 91)\n",
      "(60000, 91)\n",
      "(64000, 91)\n",
      "(68000, 91)\n",
      "(72000, 91)\n",
      "(76000, 91)\n",
      "(80000, 91)\n",
      "(84000, 91)\n"
     ]
    }
   ],
   "source": [
    "for i in range(31, 91, 3):\n",
    "    tmp = datasetset[:,:i]\n",
    "    tmp = sequence.pad_sequences(tmp, maxlen=91, padding='post', dtype='float32')\n",
    "    datasetset2 = np.row_stack((datasetset2, tmp))\n",
    "    print(datasetset2.shape)"
   ]
  },
  {
   "cell_type": "code",
   "execution_count": 13,
   "metadata": {},
   "outputs": [],
   "source": [
    "df = pd.DataFrame(data=datasetset2)\n",
    "df.to_csv('./dataset_filled_zero.csv')"
   ]
  },
  {
   "cell_type": "code",
   "execution_count": null,
   "metadata": {},
   "outputs": [],
   "source": []
  }
 ],
 "metadata": {
  "kernelspec": {
   "display_name": "Python 3",
   "language": "python",
   "name": "python3"
  },
  "language_info": {
   "codemirror_mode": {
    "name": "ipython",
    "version": 3
   },
   "file_extension": ".py",
   "mimetype": "text/x-python",
   "name": "python",
   "nbconvert_exporter": "python",
   "pygments_lexer": "ipython3",
   "version": "3.6.9"
  }
 },
 "nbformat": 4,
 "nbformat_minor": 4
}
