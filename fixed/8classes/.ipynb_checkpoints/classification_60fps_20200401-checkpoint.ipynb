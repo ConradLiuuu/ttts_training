{
 "cells": [
  {
   "cell_type": "code",
   "execution_count": 1,
   "metadata": {},
   "outputs": [
    {
     "name": "stderr",
     "output_type": "stream",
     "text": [
      "Using TensorFlow backend.\n",
      "/home/lab606a/.virtualenvs/keras/lib/python3.6/site-packages/tensorflow/python/framework/dtypes.py:523: FutureWarning: Passing (type, 1) or '1type' as a synonym of type is deprecated; in a future version of numpy, it will be understood as (type, (1,)) / '(1,)type'.\n",
      "  _np_qint8 = np.dtype([(\"qint8\", np.int8, 1)])\n",
      "/home/lab606a/.virtualenvs/keras/lib/python3.6/site-packages/tensorflow/python/framework/dtypes.py:524: FutureWarning: Passing (type, 1) or '1type' as a synonym of type is deprecated; in a future version of numpy, it will be understood as (type, (1,)) / '(1,)type'.\n",
      "  _np_quint8 = np.dtype([(\"quint8\", np.uint8, 1)])\n",
      "/home/lab606a/.virtualenvs/keras/lib/python3.6/site-packages/tensorflow/python/framework/dtypes.py:525: FutureWarning: Passing (type, 1) or '1type' as a synonym of type is deprecated; in a future version of numpy, it will be understood as (type, (1,)) / '(1,)type'.\n",
      "  _np_qint16 = np.dtype([(\"qint16\", np.int16, 1)])\n",
      "/home/lab606a/.virtualenvs/keras/lib/python3.6/site-packages/tensorflow/python/framework/dtypes.py:526: FutureWarning: Passing (type, 1) or '1type' as a synonym of type is deprecated; in a future version of numpy, it will be understood as (type, (1,)) / '(1,)type'.\n",
      "  _np_quint16 = np.dtype([(\"quint16\", np.uint16, 1)])\n",
      "/home/lab606a/.virtualenvs/keras/lib/python3.6/site-packages/tensorflow/python/framework/dtypes.py:527: FutureWarning: Passing (type, 1) or '1type' as a synonym of type is deprecated; in a future version of numpy, it will be understood as (type, (1,)) / '(1,)type'.\n",
      "  _np_qint32 = np.dtype([(\"qint32\", np.int32, 1)])\n",
      "/home/lab606a/.virtualenvs/keras/lib/python3.6/site-packages/tensorflow/python/framework/dtypes.py:532: FutureWarning: Passing (type, 1) or '1type' as a synonym of type is deprecated; in a future version of numpy, it will be understood as (type, (1,)) / '(1,)type'.\n",
      "  np_resource = np.dtype([(\"resource\", np.ubyte, 1)])\n"
     ]
    }
   ],
   "source": [
    "## import libraries\n",
    "import pandas as pd\n",
    "import numpy as np\n",
    "import matplotlib.pyplot as plt\n",
    "from keras.preprocessing import sequence\n",
    "from keras.utils import np_utils\n",
    "from keras.models import Sequential\n",
    "from keras.layers import Dense, LSTM, Activation, Embedding\n",
    "import tensorflow as tf"
   ]
  },
  {
   "cell_type": "code",
   "execution_count": 2,
   "metadata": {},
   "outputs": [],
   "source": [
    "# set GPU memory\n",
    "gpu_options = tf.GPUOptions(allow_growth=True)\n",
    "sess = tf.Session(config=tf.ConfigProto(gpu_options=gpu_options))"
   ]
  },
  {
   "cell_type": "code",
   "execution_count": 3,
   "metadata": {},
   "outputs": [
    {
     "data": {
      "text/plain": [
       "(4000, 91)"
      ]
     },
     "execution_count": 3,
     "metadata": {},
     "output_type": "execute_result"
    }
   ],
   "source": [
    "datasetset = pd.read_csv(\"./datasets/30balls/dataset20200331_30balls.csv\", header=None)\n",
    "datasetset = datasetset.fillna(0)\n",
    "datasetset = np.array(datasetset)\n",
    "datasetset.shape"
   ]
  },
  {
   "cell_type": "code",
   "execution_count": 4,
   "metadata": {},
   "outputs": [],
   "source": [
    "#datasetset = sequence.pad_sequences(datasetset, maxlen=91, padding='post', dtype='float32')"
   ]
  },
  {
   "cell_type": "code",
   "execution_count": 5,
   "metadata": {},
   "outputs": [],
   "source": [
    "#datasetset = datasetset[:,:31]\n",
    "#datasetset.shape"
   ]
  },
  {
   "cell_type": "code",
   "execution_count": 6,
   "metadata": {},
   "outputs": [
    {
     "data": {
      "text/plain": [
       "(4000, 90)"
      ]
     },
     "execution_count": 6,
     "metadata": {},
     "output_type": "execute_result"
    }
   ],
   "source": [
    "x_train = datasetset[:,1:]\n",
    "x_train.shape"
   ]
  },
  {
   "cell_type": "code",
   "execution_count": 7,
   "metadata": {},
   "outputs": [],
   "source": [
    "row = int(x_train.shape[1]/3)\n",
    "col = 3"
   ]
  },
  {
   "cell_type": "code",
   "execution_count": 8,
   "metadata": {},
   "outputs": [
    {
     "data": {
      "text/plain": [
       "(4000, 30, 3)"
      ]
     },
     "execution_count": 8,
     "metadata": {},
     "output_type": "execute_result"
    }
   ],
   "source": [
    "x_train = x_train.reshape(x_train.shape[0], row, col)\n",
    "x_train = x_train.astype('float32')\n",
    "x_train.shape"
   ]
  },
  {
   "cell_type": "code",
   "execution_count": 9,
   "metadata": {},
   "outputs": [
    {
     "data": {
      "text/plain": [
       "(4000,)"
      ]
     },
     "execution_count": 9,
     "metadata": {},
     "output_type": "execute_result"
    }
   ],
   "source": [
    "y_train = datasetset[:,0]\n",
    "y_train = y_train.astype('int')\n",
    "y_train.shape"
   ]
  },
  {
   "cell_type": "code",
   "execution_count": 10,
   "metadata": {},
   "outputs": [],
   "source": [
    "n_classes = 8"
   ]
  },
  {
   "cell_type": "code",
   "execution_count": 11,
   "metadata": {},
   "outputs": [
    {
     "data": {
      "text/plain": [
       "(4000, 8)"
      ]
     },
     "execution_count": 11,
     "metadata": {},
     "output_type": "execute_result"
    }
   ],
   "source": [
    "y_train = np_utils.to_categorical(y_train, n_classes)\n",
    "y_train.shape"
   ]
  },
  {
   "cell_type": "code",
   "execution_count": 14,
   "metadata": {},
   "outputs": [],
   "source": [
    "model = Sequential()\n",
    "model.add(LSTM(units=64, activation='tanh', input_shape=(row,col) , unroll=True, return_sequences=True))\n",
    "#model.add(LSTM(units=256, activation='tanh', unroll=True, return_sequences=True))\n",
    "#model.add(LSTM(units=128, activation='tanh', unroll=True, return_sequences=True))\n",
    "#model.add(LSTM(units=64, activation='tanh', unroll=True, return_sequences=True, dropout=0.2))\n",
    "model.add(LSTM(units=32, activation='tanh', unroll=True, return_sequences=True, dropout=0.2))\n",
    "model.add(LSTM(units=16, activation='tanh', unroll=True, return_sequences=True, dropout=0.2))\n",
    "model.add(LSTM(units=8, activation='tanh', unroll=True, dropout=0.2))\n",
    "model.add(Dense(units=n_classes, activation='softmax'))"
   ]
  },
  {
   "cell_type": "code",
   "execution_count": 15,
   "metadata": {},
   "outputs": [
    {
     "name": "stdout",
     "output_type": "stream",
     "text": [
      "_________________________________________________________________\n",
      "Layer (type)                 Output Shape              Param #   \n",
      "=================================================================\n",
      "lstm_5 (LSTM)                (None, 30, 512)           1056768   \n",
      "_________________________________________________________________\n",
      "lstm_6 (LSTM)                (None, 30, 256)           787456    \n",
      "_________________________________________________________________\n",
      "lstm_7 (LSTM)                (None, 30, 128)           197120    \n",
      "_________________________________________________________________\n",
      "lstm_8 (LSTM)                (None, 30, 64)            49408     \n",
      "_________________________________________________________________\n",
      "lstm_9 (LSTM)                (None, 30, 32)            12416     \n",
      "_________________________________________________________________\n",
      "lstm_10 (LSTM)               (None, 30, 16)            3136      \n",
      "_________________________________________________________________\n",
      "lstm_11 (LSTM)               (None, 8)                 800       \n",
      "_________________________________________________________________\n",
      "dense_2 (Dense)              (None, 8)                 72        \n",
      "=================================================================\n",
      "Total params: 2,107,176\n",
      "Trainable params: 2,107,176\n",
      "Non-trainable params: 0\n",
      "_________________________________________________________________\n"
     ]
    }
   ],
   "source": [
    "model.summary()"
   ]
  },
  {
   "cell_type": "code",
   "execution_count": 62,
   "metadata": {},
   "outputs": [],
   "source": [
    "# compile model\n",
    "model.compile(loss='categorical_crossentropy', optimizer='adam', metrics=['accuracy'])"
   ]
  },
  {
   "cell_type": "code",
   "execution_count": 78,
   "metadata": {
    "scrolled": true
   },
   "outputs": [
    {
     "name": "stdout",
     "output_type": "stream",
     "text": [
      "Epoch 1/50\n",
      "4000/4000 [==============================] - 0s 33us/step - loss: 0.0342 - acc: 0.9908\n",
      "Epoch 2/50\n",
      "4000/4000 [==============================] - 0s 33us/step - loss: 0.0199 - acc: 0.9955\n",
      "Epoch 3/50\n",
      "4000/4000 [==============================] - 0s 29us/step - loss: 0.0323 - acc: 0.9927\n",
      "Epoch 4/50\n",
      "4000/4000 [==============================] - 0s 28us/step - loss: 0.0346 - acc: 0.9902\n",
      "Epoch 5/50\n",
      "4000/4000 [==============================] - 0s 28us/step - loss: 0.0267 - acc: 0.9930\n",
      "Epoch 6/50\n",
      "4000/4000 [==============================] - 0s 28us/step - loss: 0.0321 - acc: 0.9920\n",
      "Epoch 7/50\n",
      "4000/4000 [==============================] - 0s 29us/step - loss: 0.0290 - acc: 0.9920\n",
      "Epoch 8/50\n",
      "4000/4000 [==============================] - 0s 28us/step - loss: 0.0289 - acc: 0.9930\n",
      "Epoch 9/50\n",
      "4000/4000 [==============================] - 0s 28us/step - loss: 0.0214 - acc: 0.9952\n",
      "Epoch 10/50\n",
      "4000/4000 [==============================] - 0s 28us/step - loss: 0.0427 - acc: 0.9893\n",
      "Epoch 11/50\n",
      "4000/4000 [==============================] - 0s 29us/step - loss: 0.0266 - acc: 0.9923\n",
      "Epoch 12/50\n",
      "4000/4000 [==============================] - 0s 29us/step - loss: 0.0358 - acc: 0.9898\n",
      "Epoch 13/50\n",
      "4000/4000 [==============================] - 0s 28us/step - loss: 0.0220 - acc: 0.9942\n",
      "Epoch 14/50\n",
      "4000/4000 [==============================] - 0s 28us/step - loss: 0.0306 - acc: 0.9925\n",
      "Epoch 15/50\n",
      "4000/4000 [==============================] - 0s 28us/step - loss: 0.0272 - acc: 0.9927\n",
      "Epoch 16/50\n",
      "4000/4000 [==============================] - 0s 28us/step - loss: 0.0204 - acc: 0.9948\n",
      "Epoch 17/50\n",
      "4000/4000 [==============================] - 0s 28us/step - loss: 0.0255 - acc: 0.9935\n",
      "Epoch 18/50\n",
      "4000/4000 [==============================] - 0s 28us/step - loss: 0.0300 - acc: 0.9918\n",
      "Epoch 19/50\n",
      "4000/4000 [==============================] - 0s 28us/step - loss: 0.0230 - acc: 0.9940\n",
      "Epoch 20/50\n",
      "4000/4000 [==============================] - 0s 28us/step - loss: 0.0272 - acc: 0.9925\n",
      "Epoch 21/50\n",
      "4000/4000 [==============================] - 0s 28us/step - loss: 0.0245 - acc: 0.9942\n",
      "Epoch 22/50\n",
      "4000/4000 [==============================] - 0s 28us/step - loss: 0.0247 - acc: 0.9935\n",
      "Epoch 23/50\n",
      "4000/4000 [==============================] - 0s 28us/step - loss: 0.0248 - acc: 0.9937\n",
      "Epoch 24/50\n",
      "4000/4000 [==============================] - 0s 28us/step - loss: 0.0251 - acc: 0.9937\n",
      "Epoch 25/50\n",
      "4000/4000 [==============================] - 0s 28us/step - loss: 0.0210 - acc: 0.9948\n",
      "Epoch 26/50\n",
      "4000/4000 [==============================] - 0s 29us/step - loss: 0.0214 - acc: 0.9940\n",
      "Epoch 27/50\n",
      "4000/4000 [==============================] - 0s 28us/step - loss: 0.0219 - acc: 0.9952\n",
      "Epoch 28/50\n",
      "4000/4000 [==============================] - 0s 28us/step - loss: 0.0245 - acc: 0.9940\n",
      "Epoch 29/50\n",
      "4000/4000 [==============================] - 0s 29us/step - loss: 0.0229 - acc: 0.9945\n",
      "Epoch 30/50\n",
      "4000/4000 [==============================] - 0s 29us/step - loss: 0.0244 - acc: 0.9935\n",
      "Epoch 31/50\n",
      "4000/4000 [==============================] - 0s 28us/step - loss: 0.0227 - acc: 0.9948\n",
      "Epoch 32/50\n",
      "4000/4000 [==============================] - 0s 28us/step - loss: 0.0229 - acc: 0.9940\n",
      "Epoch 33/50\n",
      "4000/4000 [==============================] - 0s 28us/step - loss: 0.0222 - acc: 0.9952\n",
      "Epoch 34/50\n",
      "4000/4000 [==============================] - 0s 28us/step - loss: 0.0226 - acc: 0.9940\n",
      "Epoch 35/50\n",
      "4000/4000 [==============================] - 0s 28us/step - loss: 0.0233 - acc: 0.9937\n",
      "Epoch 36/50\n",
      "4000/4000 [==============================] - 0s 29us/step - loss: 0.0238 - acc: 0.9935\n",
      "Epoch 37/50\n",
      "4000/4000 [==============================] - 0s 28us/step - loss: 0.0206 - acc: 0.9950\n",
      "Epoch 38/50\n",
      "4000/4000 [==============================] - 0s 28us/step - loss: 0.0224 - acc: 0.9948\n",
      "Epoch 39/50\n",
      "4000/4000 [==============================] - 0s 28us/step - loss: 0.0206 - acc: 0.9950\n",
      "Epoch 40/50\n",
      "4000/4000 [==============================] - 0s 28us/step - loss: 0.0213 - acc: 0.9942\n",
      "Epoch 41/50\n",
      "4000/4000 [==============================] - 0s 28us/step - loss: 0.0239 - acc: 0.9937\n",
      "Epoch 42/50\n",
      "4000/4000 [==============================] - 0s 28us/step - loss: 0.0235 - acc: 0.9942\n",
      "Epoch 43/50\n",
      "4000/4000 [==============================] - 0s 28us/step - loss: 0.0238 - acc: 0.9937\n",
      "Epoch 44/50\n",
      "4000/4000 [==============================] - 0s 28us/step - loss: 0.0261 - acc: 0.9920\n",
      "Epoch 45/50\n",
      "4000/4000 [==============================] - 0s 28us/step - loss: 0.0214 - acc: 0.9940\n",
      "Epoch 46/50\n",
      "4000/4000 [==============================] - 0s 29us/step - loss: 0.0232 - acc: 0.9940\n",
      "Epoch 47/50\n",
      "4000/4000 [==============================] - 0s 28us/step - loss: 0.0252 - acc: 0.9925\n",
      "Epoch 48/50\n",
      "4000/4000 [==============================] - 0s 28us/step - loss: 0.0208 - acc: 0.9950\n",
      "Epoch 49/50\n",
      "4000/4000 [==============================] - 0s 28us/step - loss: 0.0219 - acc: 0.9952\n",
      "Epoch 50/50\n",
      "4000/4000 [==============================] - 0s 28us/step - loss: 0.0194 - acc: 0.9955\n"
     ]
    }
   ],
   "source": [
    "# training\n",
    "batch_size = 4000\n",
    "training_iters = 50\n",
    "history = model.fit(x_train, y_train, batch_size=batch_size, epochs=training_iters, shuffle=True)"
   ]
  },
  {
   "cell_type": "code",
   "execution_count": 51,
   "metadata": {},
   "outputs": [],
   "source": [
    "def cal_acc(direction, speed):\n",
    "    #num1 = num\n",
    "    #num = int(num)\n",
    "    speed = str(speed)\n",
    "    file = './datasets/30balls/' +  direction + speed + '_test.csv'\n",
    "    #file = './datasets/top5_test.csv'\n",
    "    test_up2 = pd.read_csv(file, header=None)\n",
    "    test_up2 = test_up2.fillna(0)\n",
    "    test_up2 = np.array(test_up2)\n",
    "    #test_up2 = test_up2[:,:30]\n",
    "    #print(test_up2.shape)\n",
    "    test_up2 = test_up2.reshape(test_up2.shape[0],row,col)\n",
    "    cnt = np.array([0,0,0,0,0,0,0,0])\n",
    "    pred = model.predict(test_up2)\n",
    "    for i in range (pred.shape[0]):\n",
    "        for j in range (8):\n",
    "            if max(pred[i,:]) == pred[i,j]:\n",
    "                cnt[j] += 1\n",
    "            #else:\n",
    "                #print(i)\n",
    "        #print(\"i = \",i+1)\n",
    "        #print(\"\\n\",cnt)\n",
    "    #print('------------------------------')\n",
    "    return cnt"
   ]
  },
  {
   "cell_type": "code",
   "execution_count": 79,
   "metadata": {},
   "outputs": [
    {
     "data": {
      "text/plain": [
       "array([[243.,   6.,   0.,   0.,   0.,   0.,   1.,   0.],\n",
       "       [  3., 247.,   0.,   0.,   0.,   0.,   0.,   0.],\n",
       "       [  0.,   0., 249.,   1.,   0.,   0.,   0.,   0.],\n",
       "       [  0.,   0.,   2., 248.,   0.,   0.,   0.,   0.],\n",
       "       [  0.,   0.,   0.,   0., 248.,   2.,   0.,   0.],\n",
       "       [  0.,   0.,   0.,   0.,   1., 249.,   0.,   0.],\n",
       "       [  0.,   0.,   0.,   0.,   0.,   0., 250.,   0.],\n",
       "       [  0.,   0.,   0.,   0.,   0.,   0.,   0., 250.]])"
      ]
     },
     "execution_count": 79,
     "metadata": {},
     "output_type": "execute_result"
    }
   ],
   "source": [
    "accuarcy = np.zeros([8,8])\n",
    "accuarcy[0,:] = cal_acc('top', 5)\n",
    "accuarcy[1,:] = cal_acc('top', 6)\n",
    "accuarcy[2,:] = cal_acc('left', 5)\n",
    "accuarcy[3,:] = cal_acc('left', 6)\n",
    "accuarcy[4,:] = cal_acc('right', 5)\n",
    "accuarcy[5,:] = cal_acc('right', 6)\n",
    "accuarcy[6,:] = cal_acc('back', 5)\n",
    "accuarcy[7,:] = cal_acc('back', 6)\n",
    "accuarcy"
   ]
  },
  {
   "cell_type": "code",
   "execution_count": 73,
   "metadata": {},
   "outputs": [],
   "source": [
    "#model.save('./classification_30ball_20200421_64to8')"
   ]
  },
  {
   "cell_type": "code",
   "execution_count": 46,
   "metadata": {},
   "outputs": [
    {
     "data": {
      "text/plain": [
       "(250, 90)"
      ]
     },
     "execution_count": 46,
     "metadata": {},
     "output_type": "execute_result"
    }
   ],
   "source": [
    "top5_test = pd.read_csv('./datasets/30balls/left6_test.csv', header=None)\n",
    "top5_test = np.array(top5_test)\n",
    "top5_test.shape"
   ]
  },
  {
   "cell_type": "code",
   "execution_count": 47,
   "metadata": {
    "scrolled": true
   },
   "outputs": [
    {
     "name": "stdout",
     "output_type": "stream",
     "text": [
      "5.0\n",
      "1/1 [==============================] - 0s 18ms/step\n",
      "[[0.01006124 0.00007977 0.00097058 0.00327141 0.9766767  0.00199585\n",
      "  0.0067256  0.00021875]]\n",
      "6.0\n",
      "1/1 [==============================] - 0s 19ms/step\n",
      "[[0.00890218 0.00006573 0.00077546 0.00293975 0.979228   0.00175653\n",
      "  0.00616225 0.00017005]]\n",
      "7.0\n",
      "1/1 [==============================] - 0s 17ms/step\n",
      "[[0.00861334 0.00007399 0.00070117 0.00300402 0.9793504  0.00202647\n",
      "  0.0060531  0.00017755]]\n",
      "8.0\n",
      "1/1 [==============================] - 0s 16ms/step\n",
      "[[0.00796636 0.00017281 0.00063479 0.00402901 0.97482544 0.00549119\n",
      "  0.00655366 0.00032663]]\n",
      "9.0\n",
      "1/1 [==============================] - 0s 18ms/step\n",
      "[[0.00099517 0.00736791 0.00006448 0.01607219 0.15574145 0.8100198\n",
      "  0.00499249 0.00474643]]\n",
      "10.0\n",
      "1/1 [==============================] - 0s 18ms/step\n",
      "[[0.00061519 0.00719655 0.00003838 0.01276407 0.09956695 0.8723896\n",
      "  0.00360734 0.0038219 ]]\n",
      "11.0\n",
      "1/1 [==============================] - 0s 16ms/step\n",
      "[[0.00054414 0.00693284 0.00003324 0.01238698 0.08860517 0.8846612\n",
      "  0.00357954 0.00325692]]\n",
      "12.0\n",
      "1/1 [==============================] - 0s 18ms/step\n",
      "[[0.00051262 0.00676133 0.000031   0.01233094 0.08439391 0.88939166\n",
      "  0.00361181 0.00296669]]\n",
      "13.0\n",
      "1/1 [==============================] - 0s 17ms/step\n",
      "[[0.0005066  0.006665   0.00003108 0.01244226 0.08502094 0.8887533\n",
      "  0.00363917 0.00294171]]\n",
      "14.0\n",
      "1/1 [==============================] - 0s 17ms/step\n",
      "[[0.00050803 0.00664801 0.00003105 0.01262497 0.08540061 0.88814956\n",
      "  0.00367465 0.00296313]]\n",
      "15.0\n",
      "1/1 [==============================] - 0s 16ms/step\n",
      "[[0.00097188 0.01175213 0.00002735 0.01393417 0.07722008 0.8874578\n",
      "  0.00355771 0.00507895]]\n",
      "16.0\n",
      "1/1 [==============================] - 0s 18ms/step\n",
      "[[0.00529148 0.00111548 0.0002427  0.25282663 0.52257675 0.12257078\n",
      "  0.09364276 0.00173344]]\n",
      "17.0\n",
      "1/1 [==============================] - 0s 18ms/step\n",
      "[[0.00062997 0.00076516 0.0009016  0.95500886 0.02447628 0.00264546\n",
      "  0.00084876 0.01472383]]\n",
      "18.0\n",
      "1/1 [==============================] - 0s 16ms/step\n",
      "[[0.00073279 0.00074677 0.00176917 0.93931764 0.02905001 0.00282123\n",
      "  0.00097737 0.02458508]]\n",
      "19.0\n",
      "1/1 [==============================] - 0s 19ms/step\n",
      "[[0.00105677 0.00084911 0.00741004 0.90654576 0.03462133 0.00595369\n",
      "  0.00316452 0.04039868]]\n",
      "20.0\n",
      "1/1 [==============================] - 0s 18ms/step\n",
      "[[0.00150887 0.00092707 0.04699523 0.80802494 0.0364847  0.01579448\n",
      "  0.01517148 0.07509322]]\n",
      "21.0\n",
      "1/1 [==============================] - 0s 16ms/step\n",
      "[[0.0016884  0.00096673 0.05852935 0.79103947 0.0344492  0.01696978\n",
      "  0.01973344 0.07662354]]\n",
      "22.0\n",
      "1/1 [==============================] - 0s 19ms/step\n",
      "[[0.00182927 0.00109101 0.01412804 0.8938451  0.03802183 0.00714111\n",
      "  0.00669889 0.03724486]]\n",
      "23.0\n",
      "1/1 [==============================] - 0s 18ms/step\n",
      "[[0.00323409 0.00137162 0.01215565 0.8877237  0.06023041 0.0047336\n",
      "  0.00540158 0.02514933]]\n",
      "24.0\n",
      "1/1 [==============================] - 0s 19ms/step\n",
      "[[0.00151855 0.00096503 0.00884251 0.9054238  0.02915567 0.00521575\n",
      "  0.00462049 0.04425823]]\n",
      "25.0\n",
      "1/1 [==============================] - 0s 18ms/step\n",
      "[[0.00105651 0.00070027 0.01351022 0.85670406 0.01977445 0.00693886\n",
      "  0.00645243 0.09486316]]\n",
      "26.0\n",
      "1/1 [==============================] - 0s 16ms/step\n",
      "[[0.00109223 0.00063841 0.02985052 0.7812287  0.01816707 0.01037711\n",
      "  0.01241637 0.14622962]]\n",
      "27.0\n",
      "1/1 [==============================] - 0s 18ms/step\n",
      "[[0.00111412 0.00060304 0.05063376 0.7139354  0.01480554 0.01314283\n",
      "  0.0207509  0.18501453]]\n",
      "28.0\n",
      "1/1 [==============================] - 0s 18ms/step\n",
      "[[0.00117177 0.00063467 0.0574293  0.7029527  0.01146005 0.01290682\n",
      "  0.02573348 0.1877112 ]]\n",
      "29.0\n",
      "1/1 [==============================] - 0s 16ms/step\n",
      "[[0.00157258 0.0010077  0.0418835  0.80310833 0.00712412 0.00837701\n",
      "  0.02442589 0.11250082]]\n",
      "30.0\n",
      "1/1 [==============================] - 0s 18ms/step\n",
      "[[0.00436273 0.00406452 0.01747913 0.94248146 0.00394472 0.0022466\n",
      "  0.01344172 0.01197912]]\n"
     ]
    }
   ],
   "source": [
    "#tmp = top5_test[0,:]\n",
    "\n",
    "np.set_printoptions(suppress=True)\n",
    "for i in range(14,90,3):\n",
    "    tmp = top5_test[0,:i]\n",
    "    tmp = tmp.reshape(1, tmp.shape[0])\n",
    "    tmp = sequence.pad_sequences(tmp, maxlen=(row*col), padding='post', dtype='float32')\n",
    "    tmp = tmp.reshape(1, 30, 3)\n",
    "    print((i+1)/3)\n",
    "    preddd = model.predict(tmp, verbose=1)\n",
    "    print(preddd)\n",
    "    #print(tmp.shape)\n"
   ]
  },
  {
   "cell_type": "code",
   "execution_count": null,
   "metadata": {},
   "outputs": [],
   "source": []
  }
 ],
 "metadata": {
  "kernelspec": {
   "display_name": "Python 3",
   "language": "python",
   "name": "python3"
  },
  "language_info": {
   "codemirror_mode": {
    "name": "ipython",
    "version": 3
   },
   "file_extension": ".py",
   "mimetype": "text/x-python",
   "name": "python",
   "nbconvert_exporter": "python",
   "pygments_lexer": "ipython3",
   "version": "3.6.9"
  }
 },
 "nbformat": 4,
 "nbformat_minor": 4
}
