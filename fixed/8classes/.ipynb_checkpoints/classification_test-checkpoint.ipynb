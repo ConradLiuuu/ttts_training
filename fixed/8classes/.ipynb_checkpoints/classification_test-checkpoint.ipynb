{
 "cells": [
  {
   "cell_type": "code",
   "execution_count": 1,
   "metadata": {},
   "outputs": [
    {
     "name": "stderr",
     "output_type": "stream",
     "text": [
      "/home/lab606a/.virtualenvs/keras/lib/python3.6/site-packages/tensorflow/python/framework/dtypes.py:523: FutureWarning: Passing (type, 1) or '1type' as a synonym of type is deprecated; in a future version of numpy, it will be understood as (type, (1,)) / '(1,)type'.\n",
      "  _np_qint8 = np.dtype([(\"qint8\", np.int8, 1)])\n",
      "/home/lab606a/.virtualenvs/keras/lib/python3.6/site-packages/tensorflow/python/framework/dtypes.py:524: FutureWarning: Passing (type, 1) or '1type' as a synonym of type is deprecated; in a future version of numpy, it will be understood as (type, (1,)) / '(1,)type'.\n",
      "  _np_quint8 = np.dtype([(\"quint8\", np.uint8, 1)])\n",
      "/home/lab606a/.virtualenvs/keras/lib/python3.6/site-packages/tensorflow/python/framework/dtypes.py:525: FutureWarning: Passing (type, 1) or '1type' as a synonym of type is deprecated; in a future version of numpy, it will be understood as (type, (1,)) / '(1,)type'.\n",
      "  _np_qint16 = np.dtype([(\"qint16\", np.int16, 1)])\n",
      "/home/lab606a/.virtualenvs/keras/lib/python3.6/site-packages/tensorflow/python/framework/dtypes.py:526: FutureWarning: Passing (type, 1) or '1type' as a synonym of type is deprecated; in a future version of numpy, it will be understood as (type, (1,)) / '(1,)type'.\n",
      "  _np_quint16 = np.dtype([(\"quint16\", np.uint16, 1)])\n",
      "/home/lab606a/.virtualenvs/keras/lib/python3.6/site-packages/tensorflow/python/framework/dtypes.py:527: FutureWarning: Passing (type, 1) or '1type' as a synonym of type is deprecated; in a future version of numpy, it will be understood as (type, (1,)) / '(1,)type'.\n",
      "  _np_qint32 = np.dtype([(\"qint32\", np.int32, 1)])\n",
      "/home/lab606a/.virtualenvs/keras/lib/python3.6/site-packages/tensorflow/python/framework/dtypes.py:532: FutureWarning: Passing (type, 1) or '1type' as a synonym of type is deprecated; in a future version of numpy, it will be understood as (type, (1,)) / '(1,)type'.\n",
      "  np_resource = np.dtype([(\"resource\", np.ubyte, 1)])\n",
      "Using TensorFlow backend.\n"
     ]
    }
   ],
   "source": [
    "import tensorflow as tf\n",
    "import numpy as np\n",
    "import pandas as pd\n",
    "import cupy as cp\n",
    "from keras.models import load_model\n",
    "from keras.preprocessing import sequence"
   ]
  },
  {
   "cell_type": "code",
   "execution_count": 2,
   "metadata": {},
   "outputs": [],
   "source": [
    "# set GPU memory\n",
    "gpu_options = tf.GPUOptions(allow_growth=True)\n",
    "sess = tf.Session(config=tf.ConfigProto(gpu_options=gpu_options))"
   ]
  },
  {
   "cell_type": "code",
   "execution_count": 3,
   "metadata": {},
   "outputs": [],
   "source": [
    "model = load_model('./classification_30ball_20200404_filled_v2')"
   ]
  },
  {
   "cell_type": "code",
   "execution_count": 4,
   "metadata": {},
   "outputs": [
    {
     "data": {
      "text/plain": [
       "(250, 90)"
      ]
     },
     "execution_count": 4,
     "metadata": {},
     "output_type": "execute_result"
    }
   ],
   "source": [
    "top5_test = pd.read_csv('./datasets/30balls/back6_test.csv', header=None)\n",
    "top5_test = cp.array(top5_test)\n",
    "top5_test.shape"
   ]
  },
  {
   "cell_type": "code",
   "execution_count": 5,
   "metadata": {},
   "outputs": [],
   "source": [
    "row = 30\n",
    "col = 3"
   ]
  },
  {
   "cell_type": "code",
   "execution_count": 46,
   "metadata": {},
   "outputs": [
    {
     "name": "stdout",
     "output_type": "stream",
     "text": [
      "1586849418.0869434\n"
     ]
    }
   ],
   "source": [
    "import rospy\n",
    "rospy.init_node('aa')\n",
    "\n",
    "seconds = rospy.get_time()\n",
    "print(seconds)"
   ]
  },
  {
   "cell_type": "code",
   "execution_count": 63,
   "metadata": {
    "scrolled": true
   },
   "outputs": [
    {
     "name": "stdout",
     "output_type": "stream",
     "text": [
      "1/1 [==============================] - 0s 29ms/step\n",
      "taken time = 0.029551267623901367\n",
      "1/1 [==============================] - 0s 27ms/step\n",
      "taken time = 0.028063297271728516\n",
      "1/1 [==============================] - 0s 28ms/step\n",
      "taken time = 0.028345584869384766\n",
      "1/1 [==============================] - 0s 28ms/step\n",
      "taken time = 0.02903270721435547\n",
      "1/1 [==============================] - 0s 30ms/step\n",
      "taken time = 0.030173063278198242\n",
      "1/1 [==============================] - 0s 28ms/step\n",
      "taken time = 0.028628110885620117\n",
      "1/1 [==============================] - 0s 27ms/step\n",
      "taken time = 0.02774500846862793\n",
      "1/1 [==============================] - 0s 28ms/step\n",
      "taken time = 0.028809785842895508\n",
      "1/1 [==============================] - 0s 27ms/step\n",
      "taken time = 0.027765512466430664\n",
      "1/1 [==============================] - 0s 29ms/step\n",
      "taken time = 0.029331684112548828\n",
      "1/1 [==============================] - 0s 29ms/step\n",
      "taken time = 0.028959274291992188\n",
      "1/1 [==============================] - 0s 28ms/step\n",
      "taken time = 0.028904438018798828\n",
      "1/1 [==============================] - 0s 28ms/step\n",
      "taken time = 0.02828049659729004\n",
      "1/1 [==============================] - 0s 28ms/step\n",
      "taken time = 0.028652191162109375\n",
      "1/1 [==============================] - 0s 28ms/step\n",
      "taken time = 0.028472185134887695\n",
      "1/1 [==============================] - 0s 28ms/step\n",
      "taken time = 0.02822709083557129\n",
      "1/1 [==============================] - 0s 27ms/step\n",
      "taken time = 0.02775263786315918\n",
      "1/1 [==============================] - 0s 27ms/step\n",
      "taken time = 0.02780294418334961\n",
      "1/1 [==============================] - 0s 27ms/step\n",
      "taken time = 0.027652263641357422\n",
      "1/1 [==============================] - 0s 28ms/step\n",
      "taken time = 0.028403759002685547\n",
      "1/1 [==============================] - 0s 28ms/step\n",
      "taken time = 0.029070377349853516\n",
      "1/1 [==============================] - 0s 27ms/step\n",
      "taken time = 0.02794504165649414\n",
      "1/1 [==============================] - 0s 27ms/step\n",
      "taken time = 0.02743077278137207\n",
      "1/1 [==============================] - 0s 27ms/step\n",
      "taken time = 0.027485132217407227\n",
      "1/1 [==============================] - 0s 28ms/step\n",
      "taken time = 0.028479576110839844\n",
      "1/1 [==============================] - 0s 28ms/step\n",
      "taken time = 0.028316497802734375\n"
     ]
    }
   ],
   "source": [
    "np.set_printoptions(suppress=True)\n",
    "for i in range(14,90,3):\n",
    "    tmp = top5_test[0,:i]\n",
    "    tmp = tmp.reshape(1, tmp.shape[0])\n",
    "    tmp = sequence.pad_sequences(cp.asnumpy(tmp), maxlen=(row*col), padding='post', dtype='float32')\n",
    "    tmp = tmp.reshape(1, 30, 3)\n",
    "    #print((i+1)/3)\n",
    "    #print(type(tmp))\n",
    "    now = rospy.get_time()\n",
    "    preddd = model.predict(tmp, batch_size=None, verbose=1)\n",
    "    now2 = rospy.get_time()\n",
    "    print(\"taken time =\",now2-now)\n",
    "    #print(preddd)"
   ]
  },
  {
   "cell_type": "code",
   "execution_count": null,
   "metadata": {},
   "outputs": [],
   "source": []
  }
 ],
 "metadata": {
  "kernelspec": {
   "display_name": "Python 3",
   "language": "python",
   "name": "python3"
  },
  "language_info": {
   "codemirror_mode": {
    "name": "ipython",
    "version": 3
   },
   "file_extension": ".py",
   "mimetype": "text/x-python",
   "name": "python",
   "nbconvert_exporter": "python",
   "pygments_lexer": "ipython3",
   "version": "3.6.9"
  }
 },
 "nbformat": 4,
 "nbformat_minor": 4
}
