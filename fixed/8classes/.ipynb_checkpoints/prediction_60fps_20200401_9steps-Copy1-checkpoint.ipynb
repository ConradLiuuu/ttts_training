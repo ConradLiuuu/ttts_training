{
 "cells": [
  {
   "cell_type": "code",
   "execution_count": 443,
   "metadata": {},
   "outputs": [],
   "source": [
    "## import libraries\n",
    "import numpy as np\n",
    "import pandas as pd\n",
    "from keras.preprocessing import sequence\n",
    "from keras.models import Sequential\n",
    "from keras.layers import Dense, LSTM, Activation, TimeDistributed, RepeatVector\n",
    "import matplotlib.pyplot as plt\n",
    "#import os\n",
    "import tensorflow as tf\n",
    "from keras.regularizers import l2"
   ]
  },
  {
   "cell_type": "code",
   "execution_count": 444,
   "metadata": {},
   "outputs": [],
   "source": [
    "# set GPU memory\n",
    "gpu_options = tf.GPUOptions(allow_growth=True)\n",
    "sess = tf.Session(config=tf.ConfigProto(gpu_options=gpu_options))"
   ]
  },
  {
   "cell_type": "code",
   "execution_count": 445,
   "metadata": {},
   "outputs": [],
   "source": [
    "n_step = 9"
   ]
  },
  {
   "cell_type": "code",
   "execution_count": 446,
   "metadata": {},
   "outputs": [],
   "source": [
    "def split(data, depth):\n",
    "    dataset = data\n",
    "    depth = depth\n",
    "    X = np.zeros([int(depth), n_step, 3])\n",
    "    Y = np.zeros([int(depth), n_step, 3])\n",
    "    c = 0\n",
    "    d = 0\n",
    "    \n",
    "    for i in range(int(depth)):\n",
    "        for j in range(n_step):\n",
    "            if d < dataset.shape[0]:\n",
    "                X[i,j,:] = dataset[d, c:c+3]\n",
    "                Y[i,j,:] = dataset[d, (c+3*n_step):(c+3*n_step+3)]\n",
    "                \n",
    "                if ((c+3*n_step+3) != (dataset.shape[1])):\n",
    "                    c +=3\n",
    "                else:\n",
    "                    c = 0\n",
    "                    d += 1\n",
    "        if (c-3) > 0:\n",
    "            c = (c - 3*n_step + 3)\n",
    "        else:\n",
    "            c = c\n",
    "            \n",
    "    return X, Y"
   ]
  },
  {
   "cell_type": "code",
   "execution_count": 447,
   "metadata": {},
   "outputs": [
    {
     "data": {
      "text/plain": [
       "(764, 111)"
      ]
     },
     "execution_count": 447,
     "metadata": {},
     "output_type": "execute_result"
    }
   ],
   "source": [
    "dataset = pd.read_csv('/home/lab606a/Documents/20200331/fixed/original data 60hz/top6.csv', header=None)\n",
    "dataset = dataset.fillna(0)\n",
    "dataset = np.array(dataset)\n",
    "dataset.shape"
   ]
  },
  {
   "cell_type": "code",
   "execution_count": 448,
   "metadata": {},
   "outputs": [
    {
     "data": {
      "text/plain": [
       "135"
      ]
     },
     "execution_count": 448,
     "metadata": {},
     "output_type": "execute_result"
    }
   ],
   "source": [
    "maxlen_train = dataset.shape[1]+(n_step-1)*3\n",
    "maxlen_train"
   ]
  },
  {
   "cell_type": "code",
   "execution_count": 449,
   "metadata": {},
   "outputs": [
    {
     "data": {
      "text/plain": [
       "(764, 135)"
      ]
     },
     "execution_count": 449,
     "metadata": {},
     "output_type": "execute_result"
    }
   ],
   "source": [
    "dataset = sequence.pad_sequences(dataset, maxlen=maxlen_train, padding='post', dtype='float32')\n",
    "dataset.shape"
   ]
  },
  {
   "cell_type": "code",
   "execution_count": 450,
   "metadata": {},
   "outputs": [],
   "source": [
    "depth_train = (int(dataset.shape[1]/3)+1-n_step-n_step)*dataset.shape[0] # (all_balls + 1 - input_balls - output_balls)*n_rows"
   ]
  },
  {
   "cell_type": "code",
   "execution_count": 451,
   "metadata": {},
   "outputs": [],
   "source": [
    "x_train, y_train = split(data=dataset, depth=depth_train)"
   ]
  },
  {
   "cell_type": "code",
   "execution_count": 535,
   "metadata": {},
   "outputs": [],
   "source": [
    "model = Sequential()\n",
    "model.add(LSTM(128, activation='linear', input_shape=(x_train.shape[1], x_train.shape[2])))\n",
    "#model.add(LSTM(256, activation='linear', return_sequences=True))\n",
    "#model.add(LSTM(128, activation='linear', return_sequences=True))\n",
    "#model.add(LSTM(64, activation='linear', return_sequences=True))\n",
    "#model.add(LSTM(64, activation='linear'))\n",
    "model.add(RepeatVector(x_train.shape[1]))\n",
    "#model.add(LSTM(32, activation='linear', return_sequences=True))\n",
    "#model.add(LSTM(64, activation='linear', return_sequences=True))\n",
    "#model.add(LSTM(128, activation='linear', return_sequences=True))\n",
    "#model.add(LSTM(64, activation='linear', return_sequences=True))\n",
    "model.add(LSTM(128, activation='linear', return_sequences=True))\n",
    "model.add(TimeDistributed(Dense(3)))\n",
    "\n",
    "model.compile(loss='mse', optimizer='adam', metrics=['accuracy'])"
   ]
  },
  {
   "cell_type": "code",
   "execution_count": 536,
   "metadata": {},
   "outputs": [
    {
     "name": "stdout",
     "output_type": "stream",
     "text": [
      "_________________________________________________________________\n",
      "Layer (type)                 Output Shape              Param #   \n",
      "=================================================================\n",
      "lstm_56 (LSTM)               (None, 128)               67584     \n",
      "_________________________________________________________________\n",
      "repeat_vector_29 (RepeatVect (None, 9, 128)            0         \n",
      "_________________________________________________________________\n",
      "lstm_57 (LSTM)               (None, 9, 128)            131584    \n",
      "_________________________________________________________________\n",
      "time_distributed_28 (TimeDis (None, 9, 3)              387       \n",
      "=================================================================\n",
      "Total params: 199,555\n",
      "Trainable params: 199,555\n",
      "Non-trainable params: 0\n",
      "_________________________________________________________________\n"
     ]
    }
   ],
   "source": [
    "model.summary()"
   ]
  },
  {
   "cell_type": "code",
   "execution_count": 529,
   "metadata": {
    "scrolled": true
   },
   "outputs": [
    {
     "name": "stdout",
     "output_type": "stream",
     "text": [
      "Epoch 1/50\n",
      "21392/21392 [==============================] - 0s 11us/step - loss: 4.7356 - acc: 0.8223\n",
      "Epoch 2/50\n",
      "21392/21392 [==============================] - 0s 9us/step - loss: 4.3242 - acc: 0.7859\n",
      "Epoch 3/50\n",
      "21392/21392 [==============================] - 0s 9us/step - loss: 4.8537 - acc: 0.8659\n",
      "Epoch 4/50\n",
      "21392/21392 [==============================] - 0s 9us/step - loss: 4.4688 - acc: 0.8070\n",
      "Epoch 5/50\n",
      "21392/21392 [==============================] - 0s 9us/step - loss: 3.3110 - acc: 0.8203\n",
      "Epoch 6/50\n",
      "21392/21392 [==============================] - 0s 9us/step - loss: 3.8494 - acc: 0.8449\n",
      "Epoch 7/50\n",
      "21392/21392 [==============================] - 0s 9us/step - loss: 3.7574 - acc: 0.8255\n",
      "Epoch 8/50\n",
      "21392/21392 [==============================] - 0s 9us/step - loss: 3.1664 - acc: 0.8101\n",
      "Epoch 9/50\n",
      "21392/21392 [==============================] - 0s 9us/step - loss: 3.2544 - acc: 0.8257\n",
      "Epoch 10/50\n",
      "21392/21392 [==============================] - 0s 9us/step - loss: 2.7023 - acc: 0.8242\n",
      "Epoch 11/50\n",
      "21392/21392 [==============================] - 0s 9us/step - loss: 2.7381 - acc: 0.8376\n",
      "Epoch 12/50\n",
      "21392/21392 [==============================] - 0s 9us/step - loss: 3.0892 - acc: 0.7998\n",
      "Epoch 13/50\n",
      "21392/21392 [==============================] - ETA: 0s - loss: 3.3027 - acc: 0.791 - 0s 9us/step - loss: 3.3024 - acc: 0.7944\n",
      "Epoch 14/50\n",
      "21392/21392 [==============================] - 0s 9us/step - loss: 3.2735 - acc: 0.8296\n",
      "Epoch 15/50\n",
      "21392/21392 [==============================] - 0s 9us/step - loss: 3.1003 - acc: 0.8220\n",
      "Epoch 16/50\n",
      "21392/21392 [==============================] - 0s 9us/step - loss: 3.2232 - acc: 0.8196\n",
      "Epoch 17/50\n",
      "21392/21392 [==============================] - 0s 9us/step - loss: 4.0456 - acc: 0.8495\n",
      "Epoch 18/50\n",
      "21392/21392 [==============================] - 0s 9us/step - loss: 3.6238 - acc: 0.7749\n",
      "Epoch 19/50\n",
      "21392/21392 [==============================] - 0s 9us/step - loss: 5.8143 - acc: 0.8679\n",
      "Epoch 20/50\n",
      "21392/21392 [==============================] - 0s 9us/step - loss: 4.5644 - acc: 0.8176\n",
      "Epoch 21/50\n",
      "21392/21392 [==============================] - 0s 9us/step - loss: 4.6001 - acc: 0.8120\n",
      "Epoch 22/50\n",
      "21392/21392 [==============================] - 0s 9us/step - loss: 4.4085 - acc: 0.7927\n",
      "Epoch 23/50\n",
      "21392/21392 [==============================] - 0s 9us/step - loss: 7.4687 - acc: 0.8902\n",
      "Epoch 24/50\n",
      "21392/21392 [==============================] - 0s 9us/step - loss: 7.8556 - acc: 0.8067\n",
      "Epoch 25/50\n",
      "21392/21392 [==============================] - 0s 9us/step - loss: 5.9063 - acc: 0.8390\n",
      "Epoch 26/50\n",
      "21392/21392 [==============================] - 0s 9us/step - loss: 5.2946 - acc: 0.8085\n",
      "Epoch 27/50\n",
      "21392/21392 [==============================] - 0s 9us/step - loss: 4.2991 - acc: 0.8180\n",
      "Epoch 28/50\n",
      "21392/21392 [==============================] - 0s 9us/step - loss: 3.9356 - acc: 0.8130\n",
      "Epoch 29/50\n",
      "21392/21392 [==============================] - 0s 9us/step - loss: 3.9823 - acc: 0.8280\n",
      "Epoch 30/50\n",
      "21392/21392 [==============================] - 0s 9us/step - loss: 4.3782 - acc: 0.7928\n",
      "Epoch 31/50\n",
      "21392/21392 [==============================] - 0s 9us/step - loss: 4.3434 - acc: 0.8318\n",
      "Epoch 32/50\n",
      "21392/21392 [==============================] - 0s 9us/step - loss: 3.5076 - acc: 0.8304\n",
      "Epoch 33/50\n",
      "21392/21392 [==============================] - 0s 9us/step - loss: 3.2968 - acc: 0.8168\n",
      "Epoch 34/50\n",
      "21392/21392 [==============================] - 0s 9us/step - loss: 2.9107 - acc: 0.8006\n",
      "Epoch 35/50\n",
      "21392/21392 [==============================] - 0s 10us/step - loss: 2.6509 - acc: 0.8014\n",
      "Epoch 36/50\n",
      "21392/21392 [==============================] - 0s 9us/step - loss: 2.5564 - acc: 0.7981\n",
      "Epoch 37/50\n",
      "21392/21392 [==============================] - 0s 9us/step - loss: 2.5986 - acc: 0.8701\n",
      "Epoch 38/50\n",
      "21392/21392 [==============================] - 0s 9us/step - loss: 2.4259 - acc: 0.7723\n",
      "Epoch 39/50\n",
      "21392/21392 [==============================] - 0s 9us/step - loss: 2.4018 - acc: 0.8539\n",
      "Epoch 40/50\n",
      "21392/21392 [==============================] - 0s 9us/step - loss: 2.3635 - acc: 0.8206\n",
      "Epoch 41/50\n",
      "21392/21392 [==============================] - 0s 9us/step - loss: 2.4978 - acc: 0.8099\n",
      "Epoch 42/50\n",
      "21392/21392 [==============================] - 0s 10us/step - loss: 2.6908 - acc: 0.8281\n",
      "Epoch 43/50\n",
      "21392/21392 [==============================] - 0s 9us/step - loss: 2.9505 - acc: 0.8332\n",
      "Epoch 44/50\n",
      "21392/21392 [==============================] - 0s 9us/step - loss: 3.4217 - acc: 0.8018\n",
      "Epoch 45/50\n",
      "21392/21392 [==============================] - 0s 9us/step - loss: 3.6254 - acc: 0.8127\n",
      "Epoch 46/50\n",
      "21392/21392 [==============================] - 0s 9us/step - loss: 3.5080 - acc: 0.8404\n",
      "Epoch 47/50\n",
      "21392/21392 [==============================] - 0s 9us/step - loss: 3.0418 - acc: 0.8096\n",
      "Epoch 48/50\n",
      "21392/21392 [==============================] - 0s 9us/step - loss: 2.7318 - acc: 0.8315\n",
      "Epoch 49/50\n",
      "21392/21392 [==============================] - 0s 9us/step - loss: 2.7692 - acc: 0.8153\n",
      "Epoch 50/50\n",
      "21392/21392 [==============================] - 0s 10us/step - loss: 2.4921 - acc: 0.7961\n"
     ]
    }
   ],
   "source": [
    "history = model.fit(x_train, y_train, batch_size=8000, epochs=50, shuffle=True)"
   ]
  },
  {
   "cell_type": "code",
   "execution_count": 454,
   "metadata": {},
   "outputs": [
    {
     "data": {
      "image/png": "[encoded data removed]",
      "text/plain": [
       "<Figure size 432x288 with 1 Axes>"
      ]
     },
     "metadata": {
      "needs_background": "light"
     },
     "output_type": "display_data"
    }
   ],
   "source": [
    "# plot accuracy history\n",
    "# summarize history for accuracy \n",
    "plt.plot(history.history['acc'])\n",
    "#plt.plot(history.history['val_accuracy'])\n",
    "plt.title('model accuracy')\n",
    "plt.ylabel('accuracy')\n",
    "plt.xlabel('epoch')\n",
    "plt.legend(['train', 'test'], loc='upper left')\n",
    "#acc_png = './training history/' + file_name + '_accuracy.png'\n",
    "#plt.savefig(acc_png)\n",
    "plt.show()"
   ]
  },
  {
   "cell_type": "code",
   "execution_count": 455,
   "metadata": {},
   "outputs": [
    {
     "name": "stdout",
     "output_type": "stream",
     "text": [
      "[[ 73.18540192 301.99398804  42.11090088]\n",
      " [ 72.646698   288.92001343  45.14080048]\n",
      " [ 72.13159943 278.0369873   46.79240036]\n",
      " [ 71.39499664 267.5960083   48.37919998]\n",
      " [ 70.69390106 256.41598511  49.8409996 ]\n",
      " [ 70.25659943 245.84300232  50.75859833]\n",
      " [ 69.3730011  236.82699585  51.02030182]\n",
      " [ 68.77970123 223.98399353  51.49610138]\n",
      " [ 68.19650269 213.86599731  51.18999863]]\n",
      "[[ 67.41020203 205.13900757  50.11029816]\n",
      " [ 66.69329834 193.96499634  49.36529922]\n",
      " [ 66.20950317 183.38600159  48.25370026]\n",
      " [ 65.76039886 172.47099304  46.9756012 ]\n",
      " [ 65.12719727 162.81300354  45.43470001]\n",
      " [ 64.32460022 153.51699829  43.04650116]\n",
      " [ 63.77140045 143.19900513  40.7317009 ]\n",
      " [ 63.02619934 134.63999939  37.86869812]\n",
      " [ 62.36389923 124.41799927  34.95500183]]\n"
     ]
    }
   ],
   "source": [
    "print(x_train[0,:,:])\n",
    "print(y_train[0,:,:])"
   ]
  },
  {
   "cell_type": "code",
   "execution_count": 456,
   "metadata": {},
   "outputs": [],
   "source": [
    "np.set_printoptions(suppress=True)"
   ]
  },
  {
   "cell_type": "code",
   "execution_count": 530,
   "metadata": {},
   "outputs": [
    {
     "name": "stdout",
     "output_type": "stream",
     "text": [
      "1/1 [==============================] - 0s 11ms/step\n",
      "[[[ 70.89959  203.64037   48.81607 ]\n",
      "  [ 70.7319   192.89993   50.213074]\n",
      "  [ 69.402466 182.98944   48.61955 ]\n",
      "  [ 69.14483  172.83739   46.335667]\n",
      "  [ 68.392296 163.4514    44.272175]\n",
      "  [ 67.598946 154.67647   42.142742]\n",
      "  [ 67.81794  145.00903   38.907642]\n",
      "  [ 67.470955 135.59776   35.464886]\n",
      "  [ 67.36708  126.50766   31.973518]]]\n"
     ]
    }
   ],
   "source": [
    "y_pred = model.predict(x_train[0,:,:].reshape(1,9,3), verbose=1)\n",
    "print(y_pred)"
   ]
  },
  {
   "cell_type": "code",
   "execution_count": 531,
   "metadata": {},
   "outputs": [
    {
     "data": {
      "text/plain": [
       "array([[[-3.48938751,  1.49864197,  1.2942276 ],\n",
       "        [-4.03860474,  1.06506348, -0.84777451],\n",
       "        [-3.19296265,  0.39656067, -0.36584854],\n",
       "        [-3.38442993, -0.36639404,  0.63993454],\n",
       "        [-3.26509857, -0.63839722,  1.16252518],\n",
       "        [-3.2743454 , -1.1594696 ,  0.903759  ],\n",
       "        [-4.04653931, -1.81002808,  1.82405853],\n",
       "        [-4.44475555, -0.95776367,  2.40381241],\n",
       "        [-5.00318146, -2.08966064,  2.98148346]]])"
      ]
     },
     "execution_count": 531,
     "metadata": {},
     "output_type": "execute_result"
    }
   ],
   "source": [
    "#\n",
    "error = y_train[0,:,:].reshape(1,9,3)-y_pred\n",
    "error"
   ]
  },
  {
   "cell_type": "code",
   "execution_count": 459,
   "metadata": {},
   "outputs": [],
   "source": [
    "#model.save('./saved model/60hz_9steps_128_20200421/prediction_right6')"
   ]
  }
 ],
 "metadata": {
  "kernelspec": {
   "display_name": "Python 3",
   "language": "python",
   "name": "python3"
  },
  "language_info": {
   "codemirror_mode": {
    "name": "ipython",
    "version": 3
   },
   "file_extension": ".py",
   "mimetype": "text/x-python",
   "name": "python",
   "nbconvert_exporter": "python",
   "pygments_lexer": "ipython3",
   "version": "3.6.9"
  }
 },
 "nbformat": 4,
 "nbformat_minor": 4
}
